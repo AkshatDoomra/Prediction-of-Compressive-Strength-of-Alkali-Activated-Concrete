{
 "cells": [
  {
   "cell_type": "markdown",
   "id": "c01ddc01",
   "metadata": {},
   "source": [
    "# linear Regression"
   ]
  },
  {
   "cell_type": "code",
   "execution_count": 1,
   "id": "53baff27",
   "metadata": {},
   "outputs": [],
   "source": [
    "import numpy as np\n",
    "import matplotlib.pyplot as plt\n",
    "import pandas as pd\n",
    "import seaborn as sns\n",
    "%matplotlib inline"
   ]
  },
  {
   "cell_type": "code",
   "execution_count": 2,
   "id": "f09a0a21",
   "metadata": {
    "scrolled": true
   },
   "outputs": [
    {
     "data": {
      "text/html": [
       "<div>\n",
       "<style scoped>\n",
       "    .dataframe tbody tr th:only-of-type {\n",
       "        vertical-align: middle;\n",
       "    }\n",
       "\n",
       "    .dataframe tbody tr th {\n",
       "        vertical-align: top;\n",
       "    }\n",
       "\n",
       "    .dataframe thead th {\n",
       "        text-align: right;\n",
       "    }\n",
       "</style>\n",
       "<table border=\"1\" class=\"dataframe\">\n",
       "  <thead>\n",
       "    <tr style=\"text-align: right;\">\n",
       "      <th></th>\n",
       "      <th>Na2O%</th>\n",
       "      <th>Ms</th>\n",
       "      <th>W/B</th>\n",
       "      <th>SA (m²/kg)</th>\n",
       "      <th>Kb</th>\n",
       "      <th>28d</th>\n",
       "    </tr>\n",
       "  </thead>\n",
       "  <tbody>\n",
       "    <tr>\n",
       "      <th>0</th>\n",
       "      <td>4.0</td>\n",
       "      <td>0.75</td>\n",
       "      <td>0.47</td>\n",
       "      <td>527</td>\n",
       "      <td>0.96</td>\n",
       "      <td>43.80</td>\n",
       "    </tr>\n",
       "    <tr>\n",
       "      <th>1</th>\n",
       "      <td>4.0</td>\n",
       "      <td>1.00</td>\n",
       "      <td>0.47</td>\n",
       "      <td>527</td>\n",
       "      <td>0.96</td>\n",
       "      <td>48.96</td>\n",
       "    </tr>\n",
       "    <tr>\n",
       "      <th>2</th>\n",
       "      <td>4.0</td>\n",
       "      <td>1.50</td>\n",
       "      <td>0.47</td>\n",
       "      <td>527</td>\n",
       "      <td>0.96</td>\n",
       "      <td>48.05</td>\n",
       "    </tr>\n",
       "    <tr>\n",
       "      <th>3</th>\n",
       "      <td>4.0</td>\n",
       "      <td>2.00</td>\n",
       "      <td>0.47</td>\n",
       "      <td>527</td>\n",
       "      <td>0.96</td>\n",
       "      <td>33.44</td>\n",
       "    </tr>\n",
       "    <tr>\n",
       "      <th>4</th>\n",
       "      <td>6.0</td>\n",
       "      <td>0.75</td>\n",
       "      <td>0.47</td>\n",
       "      <td>527</td>\n",
       "      <td>0.96</td>\n",
       "      <td>46.71</td>\n",
       "    </tr>\n",
       "  </tbody>\n",
       "</table>\n",
       "</div>"
      ],
      "text/plain": [
       "   Na2O%    Ms   W/B  SA (m²/kg)    Kb    28d\n",
       "0    4.0  0.75  0.47         527  0.96  43.80\n",
       "1    4.0  1.00  0.47         527  0.96  48.96\n",
       "2    4.0  1.50  0.47         527  0.96  48.05\n",
       "3    4.0  2.00  0.47         527  0.96  33.44\n",
       "4    6.0  0.75  0.47         527  0.96  46.71"
      ]
     },
     "execution_count": 2,
     "metadata": {},
     "output_type": "execute_result"
    }
   ],
   "source": [
    "AlkaliLoadData = pd.read_csv(\"C:/Users/aksha/OneDrive/Desktop/alkaliData.csv\", encoding='unicode_escape')\n",
    "AlkaliLoadData.head()"
   ]
  },
  {
   "cell_type": "code",
   "execution_count": 3,
   "id": "a7237e5b",
   "metadata": {},
   "outputs": [
    {
     "data": {
      "text/plain": [
       "Na2O%         0\n",
       "Ms            0\n",
       "W/B           0\n",
       "SA (m²/kg)    0\n",
       "Kb            0\n",
       "28d           0\n",
       "dtype: int64"
      ]
     },
     "execution_count": 3,
     "metadata": {},
     "output_type": "execute_result"
    }
   ],
   "source": [
    "AlkaliLoadData.isnull().sum()"
   ]
  },
  {
   "cell_type": "code",
   "execution_count": 4,
   "id": "ae7d9bab",
   "metadata": {},
   "outputs": [],
   "source": [
    "X= AlkaliLoadData.drop(columns='28d')\n",
    "Y = AlkaliLoadData['28d']"
   ]
  },
  {
   "cell_type": "code",
   "execution_count": 5,
   "id": "0219e5f1",
   "metadata": {},
   "outputs": [],
   "source": [
    "from sklearn.model_selection import train_test_split\n",
    "X_train, X_test, Y_train, Y_test = train_test_split(X,Y, test_size = 0.2, random_state=0)"
   ]
  },
  {
   "cell_type": "code",
   "execution_count": 6,
   "id": "c3f50078",
   "metadata": {},
   "outputs": [
    {
     "data": {
      "text/html": [
       "<style>#sk-container-id-1 {color: black;}#sk-container-id-1 pre{padding: 0;}#sk-container-id-1 div.sk-toggleable {background-color: white;}#sk-container-id-1 label.sk-toggleable__label {cursor: pointer;display: block;width: 100%;margin-bottom: 0;padding: 0.3em;box-sizing: border-box;text-align: center;}#sk-container-id-1 label.sk-toggleable__label-arrow:before {content: \"▸\";float: left;margin-right: 0.25em;color: #696969;}#sk-container-id-1 label.sk-toggleable__label-arrow:hover:before {color: black;}#sk-container-id-1 div.sk-estimator:hover label.sk-toggleable__label-arrow:before {color: black;}#sk-container-id-1 div.sk-toggleable__content {max-height: 0;max-width: 0;overflow: hidden;text-align: left;background-color: #f0f8ff;}#sk-container-id-1 div.sk-toggleable__content pre {margin: 0.2em;color: black;border-radius: 0.25em;background-color: #f0f8ff;}#sk-container-id-1 input.sk-toggleable__control:checked~div.sk-toggleable__content {max-height: 200px;max-width: 100%;overflow: auto;}#sk-container-id-1 input.sk-toggleable__control:checked~label.sk-toggleable__label-arrow:before {content: \"▾\";}#sk-container-id-1 div.sk-estimator input.sk-toggleable__control:checked~label.sk-toggleable__label {background-color: #d4ebff;}#sk-container-id-1 div.sk-label input.sk-toggleable__control:checked~label.sk-toggleable__label {background-color: #d4ebff;}#sk-container-id-1 input.sk-hidden--visually {border: 0;clip: rect(1px 1px 1px 1px);clip: rect(1px, 1px, 1px, 1px);height: 1px;margin: -1px;overflow: hidden;padding: 0;position: absolute;width: 1px;}#sk-container-id-1 div.sk-estimator {font-family: monospace;background-color: #f0f8ff;border: 1px dotted black;border-radius: 0.25em;box-sizing: border-box;margin-bottom: 0.5em;}#sk-container-id-1 div.sk-estimator:hover {background-color: #d4ebff;}#sk-container-id-1 div.sk-parallel-item::after {content: \"\";width: 100%;border-bottom: 1px solid gray;flex-grow: 1;}#sk-container-id-1 div.sk-label:hover label.sk-toggleable__label {background-color: #d4ebff;}#sk-container-id-1 div.sk-serial::before {content: \"\";position: absolute;border-left: 1px solid gray;box-sizing: border-box;top: 0;bottom: 0;left: 50%;z-index: 0;}#sk-container-id-1 div.sk-serial {display: flex;flex-direction: column;align-items: center;background-color: white;padding-right: 0.2em;padding-left: 0.2em;position: relative;}#sk-container-id-1 div.sk-item {position: relative;z-index: 1;}#sk-container-id-1 div.sk-parallel {display: flex;align-items: stretch;justify-content: center;background-color: white;position: relative;}#sk-container-id-1 div.sk-item::before, #sk-container-id-1 div.sk-parallel-item::before {content: \"\";position: absolute;border-left: 1px solid gray;box-sizing: border-box;top: 0;bottom: 0;left: 50%;z-index: -1;}#sk-container-id-1 div.sk-parallel-item {display: flex;flex-direction: column;z-index: 1;position: relative;background-color: white;}#sk-container-id-1 div.sk-parallel-item:first-child::after {align-self: flex-end;width: 50%;}#sk-container-id-1 div.sk-parallel-item:last-child::after {align-self: flex-start;width: 50%;}#sk-container-id-1 div.sk-parallel-item:only-child::after {width: 0;}#sk-container-id-1 div.sk-dashed-wrapped {border: 1px dashed gray;margin: 0 0.4em 0.5em 0.4em;box-sizing: border-box;padding-bottom: 0.4em;background-color: white;}#sk-container-id-1 div.sk-label label {font-family: monospace;font-weight: bold;display: inline-block;line-height: 1.2em;}#sk-container-id-1 div.sk-label-container {text-align: center;}#sk-container-id-1 div.sk-container {/* jupyter's `normalize.less` sets `[hidden] { display: none; }` but bootstrap.min.css set `[hidden] { display: none !important; }` so we also need the `!important` here to be able to override the default hidden behavior on the sphinx rendered scikit-learn.org. See: https://github.com/scikit-learn/scikit-learn/issues/21755 */display: inline-block !important;position: relative;}#sk-container-id-1 div.sk-text-repr-fallback {display: none;}</style><div id=\"sk-container-id-1\" class=\"sk-top-container\"><div class=\"sk-text-repr-fallback\"><pre>LinearRegression()</pre><b>In a Jupyter environment, please rerun this cell to show the HTML representation or trust the notebook. <br />On GitHub, the HTML representation is unable to render, please try loading this page with nbviewer.org.</b></div><div class=\"sk-container\" hidden><div class=\"sk-item\"><div class=\"sk-estimator sk-toggleable\"><input class=\"sk-toggleable__control sk-hidden--visually\" id=\"sk-estimator-id-1\" type=\"checkbox\" checked><label for=\"sk-estimator-id-1\" class=\"sk-toggleable__label sk-toggleable__label-arrow\">LinearRegression</label><div class=\"sk-toggleable__content\"><pre>LinearRegression()</pre></div></div></div></div></div>"
      ],
      "text/plain": [
       "LinearRegression()"
      ]
     },
     "execution_count": 6,
     "metadata": {},
     "output_type": "execute_result"
    }
   ],
   "source": [
    "from sklearn.linear_model import LinearRegression\n",
    "lr = LinearRegression()\n",
    "lr.fit(X_train, Y_train)"
   ]
  },
  {
   "cell_type": "code",
   "execution_count": 7,
   "id": "c62393b2",
   "metadata": {},
   "outputs": [],
   "source": [
    "Y_pred_test= lr.predict(X_test) "
   ]
  },
  {
   "cell_type": "code",
   "execution_count": 40,
   "id": "2ca7f678",
   "metadata": {},
   "outputs": [
    {
     "name": "stdout",
     "output_type": "stream",
     "text": [
      "mean sq error  615.9659862509789\n"
     ]
    }
   ],
   "source": [
    "from sklearn.metrics import mean_squared_error\n",
    "from sklearn.metrics import mean_absolute_percentage_error\n",
    "linear_mse= mean_squared_error(Y_test, Y_pred_test)\n",
    "print('mean sq error ', linear_mse)"
   ]
  },
  {
   "cell_type": "code",
   "execution_count": 9,
   "id": "0519134f",
   "metadata": {},
   "outputs": [
    {
     "name": "stdout",
     "output_type": "stream",
     "text": [
      "mean absolute error is  18.422998762802095\n",
      "mean absolute percent error is  36.15291943875996\n"
     ]
    }
   ],
   "source": [
    "from sklearn.metrics import mean_absolute_error\n",
    "linear_mae= mean_absolute_error(Y_test, Y_pred_test)\n",
    "mape_lg = np.mean(np.abs((Y_test - Y_pred_test)/Y_test))*100\n",
    "print('mean absolute error is ', linear_mae)\n",
    "print('mean absolute percent error is ', mape_lg)"
   ]
  },
  {
   "cell_type": "code",
   "execution_count": 10,
   "id": "62d6bd5f",
   "metadata": {},
   "outputs": [
    {
     "data": {
      "text/plain": [
       "0.05043486551714493"
      ]
     },
     "execution_count": 10,
     "metadata": {},
     "output_type": "execute_result"
    }
   ],
   "source": [
    "from sklearn.metrics import r2_score\n",
    "r2_score(Y_test, Y_pred_test)"
   ]
  },
  {
   "cell_type": "code",
   "execution_count": 11,
   "id": "79d62726",
   "metadata": {},
   "outputs": [
    {
     "data": {
      "image/png": "[encoded data removed]",
      "text/plain": [
       "<Figure size 640x480 with 1 Axes>"
      ]
     },
     "metadata": {},
     "output_type": "display_data"
    }
   ],
   "source": [
    "plt.scatter(Y_test, Y_pred_test)\n",
    "plt.xlabel(\"Actual data\")\n",
    "plt.ylabel(\"pred data\")\n",
    "plt.show()"
   ]
  },
  {
   "cell_type": "markdown",
   "id": "3d9c11a1",
   "metadata": {},
   "source": [
    "# Polynomial Regression"
   ]
  },
  {
   "cell_type": "code",
   "execution_count": 12,
   "id": "c2777ecb",
   "metadata": {},
   "outputs": [],
   "source": [
    "from sklearn.preprocessing import PolynomialFeatures\n",
    "poly = PolynomialFeatures(degree=3, include_bias=True)\n",
    "X_train_poly = poly.fit_transform(X_train)\n",
    "X_test_poly = poly.transform(X_test)"
   ]
  },
  {
   "cell_type": "code",
   "execution_count": 13,
   "id": "e9b11efd",
   "metadata": {},
   "outputs": [],
   "source": [
    "regression = LinearRegression()\n",
    "regression.fit(X_train_poly, Y_train)\n",
    "Y_pred_test_poly= regression.predict(X_test_poly)"
   ]
  },
  {
   "cell_type": "code",
   "execution_count": 14,
   "id": "53635c84",
   "metadata": {},
   "outputs": [
    {
     "name": "stdout",
     "output_type": "stream",
     "text": [
      "mean sq error  469.5332160024067\n"
     ]
    }
   ],
   "source": [
    "poly_mse= mean_squared_error(Y_test, Y_pred_test_poly)\n",
    "print('mean sq error ', poly_mse)"
   ]
  },
  {
   "cell_type": "code",
   "execution_count": 15,
   "id": "0a5fbd83",
   "metadata": {},
   "outputs": [
    {
     "name": "stdout",
     "output_type": "stream",
     "text": [
      "mean absolute error is  14.523179980128285\n",
      "mean absolute percent error is  30.528895346314442\n"
     ]
    }
   ],
   "source": [
    "poly_mae= mean_absolute_error(Y_test, Y_pred_test_poly)\n",
    "mape_po = np.mean(np.abs((Y_test - Y_pred_test_poly)/Y_test))*100\n",
    "print('mean absolute error is ', poly_mae)\n",
    "print('mean absolute percent error is ', mape_po)"
   ]
  },
  {
   "cell_type": "code",
   "execution_count": 16,
   "id": "8626b225",
   "metadata": {},
   "outputs": [
    {
     "data": {
      "text/plain": [
       "0.2761737151898065"
      ]
     },
     "execution_count": 16,
     "metadata": {},
     "output_type": "execute_result"
    }
   ],
   "source": [
    "r2_score(Y_test, Y_pred_test_poly)"
   ]
  },
  {
   "cell_type": "code",
   "execution_count": 17,
   "id": "16653be1",
   "metadata": {},
   "outputs": [
    {
     "data": {
      "image/png": "[encoded data removed]",
      "text/plain": [
       "<Figure size 640x480 with 1 Axes>"
      ]
     },
     "metadata": {},
     "output_type": "display_data"
    }
   ],
   "source": [
    "plt.scatter(Y_test, Y_pred_test_poly)\n",
    "plt.xlabel(\"Actual data\")\n",
    "plt.ylabel(\"pred data\")\n",
    "plt.show()"
   ]
  },
  {
   "cell_type": "markdown",
   "id": "576e293a",
   "metadata": {},
   "source": [
    "# Neural Network"
   ]
  },
  {
   "cell_type": "code",
   "execution_count": 44,
   "id": "ca71d3f7",
   "metadata": {},
   "outputs": [],
   "source": [
    "from tensorflow.keras import Sequential\n",
    "from keras.layers import Dense\n",
    "from tensorflow.keras.wrappers.scikit_learn import KerasRegressor\n",
    "from sklearn.model_selection import cross_val_score\n",
    "from sklearn.model_selection import KFold\n",
    "from sklearn.pipeline import Pipeline"
   ]
  },
  {
   "cell_type": "code",
   "execution_count": 45,
   "id": "51aef237",
   "metadata": {},
   "outputs": [
    {
     "data": {
      "text/html": [
       "<style>#sk-container-id-4 {color: black;}#sk-container-id-4 pre{padding: 0;}#sk-container-id-4 div.sk-toggleable {background-color: white;}#sk-container-id-4 label.sk-toggleable__label {cursor: pointer;display: block;width: 100%;margin-bottom: 0;padding: 0.3em;box-sizing: border-box;text-align: center;}#sk-container-id-4 label.sk-toggleable__label-arrow:before {content: \"▸\";float: left;margin-right: 0.25em;color: #696969;}#sk-container-id-4 label.sk-toggleable__label-arrow:hover:before {color: black;}#sk-container-id-4 div.sk-estimator:hover label.sk-toggleable__label-arrow:before {color: black;}#sk-container-id-4 div.sk-toggleable__content {max-height: 0;max-width: 0;overflow: hidden;text-align: left;background-color: #f0f8ff;}#sk-container-id-4 div.sk-toggleable__content pre {margin: 0.2em;color: black;border-radius: 0.25em;background-color: #f0f8ff;}#sk-container-id-4 input.sk-toggleable__control:checked~div.sk-toggleable__content {max-height: 200px;max-width: 100%;overflow: auto;}#sk-container-id-4 input.sk-toggleable__control:checked~label.sk-toggleable__label-arrow:before {content: \"▾\";}#sk-container-id-4 div.sk-estimator input.sk-toggleable__control:checked~label.sk-toggleable__label {background-color: #d4ebff;}#sk-container-id-4 div.sk-label input.sk-toggleable__control:checked~label.sk-toggleable__label {background-color: #d4ebff;}#sk-container-id-4 input.sk-hidden--visually {border: 0;clip: rect(1px 1px 1px 1px);clip: rect(1px, 1px, 1px, 1px);height: 1px;margin: -1px;overflow: hidden;padding: 0;position: absolute;width: 1px;}#sk-container-id-4 div.sk-estimator {font-family: monospace;background-color: #f0f8ff;border: 1px dotted black;border-radius: 0.25em;box-sizing: border-box;margin-bottom: 0.5em;}#sk-container-id-4 div.sk-estimator:hover {background-color: #d4ebff;}#sk-container-id-4 div.sk-parallel-item::after {content: \"\";width: 100%;border-bottom: 1px solid gray;flex-grow: 1;}#sk-container-id-4 div.sk-label:hover label.sk-toggleable__label {background-color: #d4ebff;}#sk-container-id-4 div.sk-serial::before {content: \"\";position: absolute;border-left: 1px solid gray;box-sizing: border-box;top: 0;bottom: 0;left: 50%;z-index: 0;}#sk-container-id-4 div.sk-serial {display: flex;flex-direction: column;align-items: center;background-color: white;padding-right: 0.2em;padding-left: 0.2em;position: relative;}#sk-container-id-4 div.sk-item {position: relative;z-index: 1;}#sk-container-id-4 div.sk-parallel {display: flex;align-items: stretch;justify-content: center;background-color: white;position: relative;}#sk-container-id-4 div.sk-item::before, #sk-container-id-4 div.sk-parallel-item::before {content: \"\";position: absolute;border-left: 1px solid gray;box-sizing: border-box;top: 0;bottom: 0;left: 50%;z-index: -1;}#sk-container-id-4 div.sk-parallel-item {display: flex;flex-direction: column;z-index: 1;position: relative;background-color: white;}#sk-container-id-4 div.sk-parallel-item:first-child::after {align-self: flex-end;width: 50%;}#sk-container-id-4 div.sk-parallel-item:last-child::after {align-self: flex-start;width: 50%;}#sk-container-id-4 div.sk-parallel-item:only-child::after {width: 0;}#sk-container-id-4 div.sk-dashed-wrapped {border: 1px dashed gray;margin: 0 0.4em 0.5em 0.4em;box-sizing: border-box;padding-bottom: 0.4em;background-color: white;}#sk-container-id-4 div.sk-label label {font-family: monospace;font-weight: bold;display: inline-block;line-height: 1.2em;}#sk-container-id-4 div.sk-label-container {text-align: center;}#sk-container-id-4 div.sk-container {/* jupyter's `normalize.less` sets `[hidden] { display: none; }` but bootstrap.min.css set `[hidden] { display: none !important; }` so we also need the `!important` here to be able to override the default hidden behavior on the sphinx rendered scikit-learn.org. See: https://github.com/scikit-learn/scikit-learn/issues/21755 */display: inline-block !important;position: relative;}#sk-container-id-4 div.sk-text-repr-fallback {display: none;}</style><div id=\"sk-container-id-4\" class=\"sk-top-container\"><div class=\"sk-text-repr-fallback\"><pre>StandardScaler()</pre><b>In a Jupyter environment, please rerun this cell to show the HTML representation or trust the notebook. <br />On GitHub, the HTML representation is unable to render, please try loading this page with nbviewer.org.</b></div><div class=\"sk-container\" hidden><div class=\"sk-item\"><div class=\"sk-estimator sk-toggleable\"><input class=\"sk-toggleable__control sk-hidden--visually\" id=\"sk-estimator-id-4\" type=\"checkbox\" checked><label for=\"sk-estimator-id-4\" class=\"sk-toggleable__label sk-toggleable__label-arrow\">StandardScaler</label><div class=\"sk-toggleable__content\"><pre>StandardScaler()</pre></div></div></div></div></div>"
      ],
      "text/plain": [
       "StandardScaler()"
      ]
     },
     "execution_count": 45,
     "metadata": {},
     "output_type": "execute_result"
    }
   ],
   "source": [
    "from sklearn.preprocessing import StandardScaler\n",
    "scaler= StandardScaler()\n",
    "scaler.fit(X_train)"
   ]
  },
  {
   "cell_type": "code",
   "execution_count": 46,
   "id": "769816dc",
   "metadata": {},
   "outputs": [],
   "source": [
    "X_train_scaled= scaler.transform(X_train)\n",
    "X_test_scaled= scaler.transform(X_test)"
   ]
  },
  {
   "cell_type": "code",
   "execution_count": 47,
   "id": "1f5036ee",
   "metadata": {},
   "outputs": [],
   "source": [
    "model = Sequential()\n",
    "from tensorflow.keras.initializers import glorot_normal\n",
    "from tensorflow.keras.regularizers import l1, l2\n",
    "from tensorflow.keras.layers import BatchNormalization\n",
    "model.add(Dense(5, activation = 'selu'))\n",
    "model.add(BatchNormalization())\n",
    "model.add(Dense(128, activation = 'selu',kernel_initializer=glorot_normal()))\n",
    "\n",
    "model.add(Dense(64, activation = 'selu',kernel_initializer=glorot_normal()))\n",
    "\n",
    "model.add(Dense(32, activation = 'selu',kernel_initializer=glorot_normal()))\n",
    "\n",
    "model.add(Dense(16, activation = 'selu',kernel_initializer=glorot_normal()))\n",
    "\n",
    "model.add(Dense(8, activation = 'selu',kernel_initializer=glorot_normal()))\n",
    "\n",
    "model.add(Dense(4, activation = 'selu',kernel_initializer=glorot_normal()))\n",
    "\n",
    "model.add(Dense(2, activation = 'selu',kernel_initializer=glorot_normal()))\n",
    "\n",
    "model.add(Dense(1, activation = 'selu',kernel_initializer=glorot_normal()))"
   ]
  },
  {
   "cell_type": "code",
   "execution_count": 48,
   "id": "9325fac5",
   "metadata": {},
   "outputs": [],
   "source": [
    "model.compile(loss='mean_squared_error', optimizer='adam', metrics=['mae'])"
   ]
  },
  {
   "cell_type": "code",
   "execution_count": 49,
   "id": "3d7c9e22",
   "metadata": {},
   "outputs": [
    {
     "name": "stdout",
     "output_type": "stream",
     "text": [
      "Epoch 1/100\n",
      "7/7 [==============================] - 2s 45ms/step - loss: 4094.9934 - mae: 58.3545 - val_loss: 3818.2903 - val_mae: 56.6782\n",
      "Epoch 2/100\n",
      "7/7 [==============================] - 0s 8ms/step - loss: 4015.3564 - mae: 57.6689 - val_loss: 3768.5747 - val_mae: 56.2363\n",
      "Epoch 3/100\n",
      "7/7 [==============================] - 0s 8ms/step - loss: 3965.1355 - mae: 57.2337 - val_loss: 3719.0181 - val_mae: 55.7950\n",
      "Epoch 4/100\n",
      "7/7 [==============================] - 0s 8ms/step - loss: 3910.7075 - mae: 56.7697 - val_loss: 3664.4785 - val_mae: 55.3044\n",
      "Epoch 5/100\n",
      "7/7 [==============================] - 0s 8ms/step - loss: 3849.5295 - mae: 56.2339 - val_loss: 3600.7012 - val_mae: 54.7220\n",
      "Epoch 6/100\n",
      "7/7 [==============================] - 0s 8ms/step - loss: 3775.8657 - mae: 55.5915 - val_loss: 3517.6313 - val_mae: 53.9572\n",
      "Epoch 7/100\n",
      "7/7 [==============================] - 0s 8ms/step - loss: 3681.7268 - mae: 54.7395 - val_loss: 3398.5986 - val_mae: 52.8482\n",
      "Epoch 8/100\n",
      "7/7 [==============================] - 0s 8ms/step - loss: 3539.5916 - mae: 53.4517 - val_loss: 3222.9255 - val_mae: 51.1646\n",
      "Epoch 9/100\n",
      "7/7 [==============================] - 0s 8ms/step - loss: 3333.9519 - mae: 51.5337 - val_loss: 2962.7432 - val_mae: 48.5656\n",
      "Epoch 10/100\n",
      "7/7 [==============================] - 0s 8ms/step - loss: 3035.1753 - mae: 48.5979 - val_loss: 2585.0657 - val_mae: 44.5497\n",
      "Epoch 11/100\n",
      "7/7 [==============================] - 0s 8ms/step - loss: 2580.4719 - mae: 43.8995 - val_loss: 2043.3794 - val_mae: 38.2729\n",
      "Epoch 12/100\n",
      "7/7 [==============================] - 0s 8ms/step - loss: 1965.4619 - mae: 36.7339 - val_loss: 1358.0565 - val_mae: 29.4172\n",
      "Epoch 13/100\n",
      "7/7 [==============================] - 0s 9ms/step - loss: 1247.4368 - mae: 27.8768 - val_loss: 740.1230 - val_mae: 20.1769\n",
      "Epoch 14/100\n",
      "7/7 [==============================] - 0s 9ms/step - loss: 760.4553 - mae: 21.3832 - val_loss: 589.4173 - val_mae: 18.9201\n",
      "Epoch 15/100\n",
      "7/7 [==============================] - 0s 8ms/step - loss: 714.7996 - mae: 20.9736 - val_loss: 660.7808 - val_mae: 20.2426\n",
      "Epoch 16/100\n",
      "7/7 [==============================] - 0s 8ms/step - loss: 691.4049 - mae: 20.3790 - val_loss: 601.6768 - val_mae: 19.0662\n",
      "Epoch 17/100\n",
      "7/7 [==============================] - 0s 9ms/step - loss: 637.3217 - mae: 19.1651 - val_loss: 620.2086 - val_mae: 19.1860\n",
      "Epoch 18/100\n",
      "7/7 [==============================] - 0s 8ms/step - loss: 676.0723 - mae: 19.6727 - val_loss: 634.8259 - val_mae: 19.5831\n",
      "Epoch 19/100\n",
      "7/7 [==============================] - 0s 8ms/step - loss: 656.5214 - mae: 19.3438 - val_loss: 612.8566 - val_mae: 19.3075\n",
      "Epoch 20/100\n",
      "7/7 [==============================] - 0s 8ms/step - loss: 628.9476 - mae: 19.2871 - val_loss: 607.5081 - val_mae: 19.1684\n",
      "Epoch 21/100\n",
      "7/7 [==============================] - 0s 8ms/step - loss: 614.4648 - mae: 19.0477 - val_loss: 601.8505 - val_mae: 19.1786\n",
      "Epoch 22/100\n",
      "7/7 [==============================] - 0s 8ms/step - loss: 616.3848 - mae: 18.9698 - val_loss: 603.7607 - val_mae: 19.3570\n",
      "Epoch 23/100\n",
      "7/7 [==============================] - 0s 8ms/step - loss: 622.1196 - mae: 19.0334 - val_loss: 600.5663 - val_mae: 19.2400\n",
      "Epoch 24/100\n",
      "7/7 [==============================] - 0s 9ms/step - loss: 603.9340 - mae: 18.8085 - val_loss: 598.5008 - val_mae: 19.2934\n",
      "Epoch 25/100\n",
      "7/7 [==============================] - 0s 8ms/step - loss: 598.0798 - mae: 18.7998 - val_loss: 608.7955 - val_mae: 19.4935\n",
      "Epoch 26/100\n",
      "7/7 [==============================] - 0s 9ms/step - loss: 586.2713 - mae: 18.3452 - val_loss: 614.0628 - val_mae: 19.5094\n",
      "Epoch 27/100\n",
      "7/7 [==============================] - 0s 8ms/step - loss: 594.6428 - mae: 18.4703 - val_loss: 618.1260 - val_mae: 19.4892\n",
      "Epoch 28/100\n",
      "7/7 [==============================] - 0s 9ms/step - loss: 573.5382 - mae: 18.0567 - val_loss: 626.1736 - val_mae: 19.5334\n",
      "Epoch 29/100\n",
      "7/7 [==============================] - 0s 8ms/step - loss: 586.7589 - mae: 18.3852 - val_loss: 642.8570 - val_mae: 20.1033\n",
      "Epoch 30/100\n",
      "7/7 [==============================] - 0s 9ms/step - loss: 576.2319 - mae: 17.9850 - val_loss: 652.9051 - val_mae: 20.3015\n",
      "Epoch 31/100\n",
      "7/7 [==============================] - 0s 8ms/step - loss: 596.2654 - mae: 18.6521 - val_loss: 671.3638 - val_mae: 20.3559\n",
      "Epoch 32/100\n",
      "7/7 [==============================] - 0s 8ms/step - loss: 599.7938 - mae: 18.6626 - val_loss: 639.0001 - val_mae: 19.5761\n",
      "Epoch 33/100\n",
      "7/7 [==============================] - 0s 8ms/step - loss: 584.6436 - mae: 18.2014 - val_loss: 627.3875 - val_mae: 19.4339\n",
      "Epoch 34/100\n",
      "7/7 [==============================] - 0s 8ms/step - loss: 587.9907 - mae: 18.2753 - val_loss: 619.7542 - val_mae: 19.7498\n",
      "Epoch 35/100\n",
      "7/7 [==============================] - 0s 9ms/step - loss: 566.0932 - mae: 18.1557 - val_loss: 626.1942 - val_mae: 20.3905\n",
      "Epoch 36/100\n",
      "7/7 [==============================] - 0s 8ms/step - loss: 582.1727 - mae: 18.8144 - val_loss: 619.4286 - val_mae: 20.3576\n",
      "Epoch 37/100\n",
      "7/7 [==============================] - 0s 8ms/step - loss: 561.0645 - mae: 18.4303 - val_loss: 613.8735 - val_mae: 20.0588\n",
      "Epoch 38/100\n",
      "7/7 [==============================] - 0s 8ms/step - loss: 553.9606 - mae: 18.0086 - val_loss: 616.4810 - val_mae: 19.7700\n",
      "Epoch 39/100\n",
      "7/7 [==============================] - 0s 8ms/step - loss: 549.4802 - mae: 17.7974 - val_loss: 619.6102 - val_mae: 19.8017\n",
      "Epoch 40/100\n",
      "7/7 [==============================] - 0s 8ms/step - loss: 563.8903 - mae: 18.1300 - val_loss: 620.5444 - val_mae: 20.0252\n",
      "Epoch 41/100\n",
      "7/7 [==============================] - 0s 8ms/step - loss: 562.3342 - mae: 18.0607 - val_loss: 619.4712 - val_mae: 20.1018\n",
      "Epoch 42/100\n",
      "7/7 [==============================] - 0s 8ms/step - loss: 550.3257 - mae: 17.6934 - val_loss: 617.6805 - val_mae: 19.9461\n",
      "Epoch 43/100\n",
      "7/7 [==============================] - 0s 7ms/step - loss: 546.4379 - mae: 17.6641 - val_loss: 613.5762 - val_mae: 19.6762\n",
      "Epoch 44/100\n",
      "7/7 [==============================] - 0s 8ms/step - loss: 553.9011 - mae: 17.7017 - val_loss: 615.3324 - val_mae: 19.6119\n",
      "Epoch 45/100\n",
      "7/7 [==============================] - 0s 8ms/step - loss: 554.2721 - mae: 18.0161 - val_loss: 641.7734 - val_mae: 20.2542\n",
      "Epoch 46/100\n",
      "7/7 [==============================] - 0s 8ms/step - loss: 572.2153 - mae: 18.5033 - val_loss: 625.3521 - val_mae: 19.9168\n",
      "Epoch 47/100\n",
      "7/7 [==============================] - 0s 7ms/step - loss: 526.8832 - mae: 17.2654 - val_loss: 615.4913 - val_mae: 19.7637\n",
      "Epoch 48/100\n",
      "7/7 [==============================] - 0s 8ms/step - loss: 525.5370 - mae: 17.3800 - val_loss: 615.6619 - val_mae: 19.7761\n",
      "Epoch 49/100\n",
      "7/7 [==============================] - 0s 8ms/step - loss: 537.2510 - mae: 17.5566 - val_loss: 621.1065 - val_mae: 19.6863\n",
      "Epoch 50/100\n",
      "7/7 [==============================] - 0s 11ms/step - loss: 521.6619 - mae: 17.2459 - val_loss: 619.7523 - val_mae: 19.8091\n",
      "Epoch 51/100\n",
      "7/7 [==============================] - 0s 8ms/step - loss: 516.8517 - mae: 17.2570 - val_loss: 617.7217 - val_mae: 19.7689\n",
      "Epoch 52/100\n",
      "7/7 [==============================] - 0s 7ms/step - loss: 519.3721 - mae: 17.3309 - val_loss: 631.8465 - val_mae: 20.2940\n",
      "Epoch 53/100\n",
      "7/7 [==============================] - 0s 8ms/step - loss: 498.8582 - mae: 17.1157 - val_loss: 620.9148 - val_mae: 19.9629\n",
      "Epoch 54/100\n",
      "7/7 [==============================] - 0s 8ms/step - loss: 517.8647 - mae: 17.2477 - val_loss: 624.6995 - val_mae: 20.0805\n",
      "Epoch 55/100\n",
      "7/7 [==============================] - 0s 8ms/step - loss: 501.5270 - mae: 16.8917 - val_loss: 603.5935 - val_mae: 19.4935\n",
      "Epoch 56/100\n",
      "7/7 [==============================] - 0s 7ms/step - loss: 508.2184 - mae: 16.9063 - val_loss: 602.9457 - val_mae: 19.5386\n",
      "Epoch 57/100\n",
      "7/7 [==============================] - 0s 7ms/step - loss: 489.6473 - mae: 16.6688 - val_loss: 610.4659 - val_mae: 19.9997\n",
      "Epoch 58/100\n",
      "7/7 [==============================] - 0s 8ms/step - loss: 505.7309 - mae: 17.0553 - val_loss: 606.7366 - val_mae: 19.7832\n",
      "Epoch 59/100\n",
      "7/7 [==============================] - 0s 8ms/step - loss: 511.0335 - mae: 17.0141 - val_loss: 610.9121 - val_mae: 19.4678\n",
      "Epoch 60/100\n",
      "7/7 [==============================] - 0s 8ms/step - loss: 511.1569 - mae: 17.1502 - val_loss: 600.4101 - val_mae: 19.2676\n",
      "Epoch 61/100\n"
     ]
    },
    {
     "name": "stdout",
     "output_type": "stream",
     "text": [
      "7/7 [==============================] - 0s 8ms/step - loss: 502.3896 - mae: 16.7833 - val_loss: 589.6815 - val_mae: 19.2487\n",
      "Epoch 62/100\n",
      "7/7 [==============================] - 0s 8ms/step - loss: 478.0772 - mae: 16.8212 - val_loss: 592.0079 - val_mae: 19.3599\n",
      "Epoch 63/100\n",
      "7/7 [==============================] - 0s 8ms/step - loss: 464.6352 - mae: 16.2343 - val_loss: 585.5626 - val_mae: 19.1288\n",
      "Epoch 64/100\n",
      "7/7 [==============================] - 0s 7ms/step - loss: 495.9849 - mae: 16.7997 - val_loss: 585.8004 - val_mae: 18.9359\n",
      "Epoch 65/100\n",
      "7/7 [==============================] - 0s 9ms/step - loss: 470.4777 - mae: 16.4128 - val_loss: 583.8706 - val_mae: 18.8742\n",
      "Epoch 66/100\n",
      "7/7 [==============================] - 0s 8ms/step - loss: 487.7942 - mae: 16.5234 - val_loss: 578.3832 - val_mae: 18.8458\n",
      "Epoch 67/100\n",
      "7/7 [==============================] - 0s 8ms/step - loss: 479.8207 - mae: 16.5392 - val_loss: 585.8728 - val_mae: 19.4014\n",
      "Epoch 68/100\n",
      "7/7 [==============================] - 0s 8ms/step - loss: 493.9070 - mae: 16.8468 - val_loss: 579.6086 - val_mae: 19.0896\n",
      "Epoch 69/100\n",
      "7/7 [==============================] - 0s 8ms/step - loss: 481.6828 - mae: 17.0865 - val_loss: 565.9683 - val_mae: 18.5672\n",
      "Epoch 70/100\n",
      "7/7 [==============================] - 0s 8ms/step - loss: 468.4908 - mae: 16.2631 - val_loss: 550.2957 - val_mae: 17.8623\n",
      "Epoch 71/100\n",
      "7/7 [==============================] - 0s 8ms/step - loss: 463.2995 - mae: 16.1033 - val_loss: 553.6464 - val_mae: 17.8976\n",
      "Epoch 72/100\n",
      "7/7 [==============================] - 0s 8ms/step - loss: 458.0276 - mae: 15.9403 - val_loss: 551.4043 - val_mae: 18.0153\n",
      "Epoch 73/100\n",
      "7/7 [==============================] - 0s 7ms/step - loss: 473.5231 - mae: 16.4136 - val_loss: 552.1381 - val_mae: 18.5005\n",
      "Epoch 74/100\n",
      "7/7 [==============================] - 0s 7ms/step - loss: 465.3503 - mae: 16.0015 - val_loss: 565.1129 - val_mae: 18.8139\n",
      "Epoch 75/100\n",
      "7/7 [==============================] - 0s 8ms/step - loss: 446.4810 - mae: 15.9697 - val_loss: 551.5657 - val_mae: 18.7473\n",
      "Epoch 76/100\n",
      "7/7 [==============================] - 0s 7ms/step - loss: 487.8938 - mae: 16.7227 - val_loss: 518.4704 - val_mae: 17.3757\n",
      "Epoch 77/100\n",
      "7/7 [==============================] - 0s 8ms/step - loss: 434.6038 - mae: 15.6792 - val_loss: 523.1345 - val_mae: 17.4363\n",
      "Epoch 78/100\n",
      "7/7 [==============================] - 0s 8ms/step - loss: 478.9822 - mae: 16.4835 - val_loss: 535.9570 - val_mae: 18.1652\n",
      "Epoch 79/100\n",
      "7/7 [==============================] - 0s 8ms/step - loss: 457.1891 - mae: 16.4175 - val_loss: 522.5612 - val_mae: 17.9612\n",
      "Epoch 80/100\n",
      "7/7 [==============================] - 0s 8ms/step - loss: 491.3097 - mae: 16.6261 - val_loss: 516.7809 - val_mae: 17.1968\n",
      "Epoch 81/100\n",
      "7/7 [==============================] - 0s 8ms/step - loss: 440.9372 - mae: 15.5351 - val_loss: 525.8055 - val_mae: 17.2141\n",
      "Epoch 82/100\n",
      "7/7 [==============================] - 0s 8ms/step - loss: 475.8370 - mae: 16.1551 - val_loss: 531.3830 - val_mae: 17.5578\n",
      "Epoch 83/100\n",
      "7/7 [==============================] - 0s 8ms/step - loss: 418.4796 - mae: 15.3307 - val_loss: 527.0287 - val_mae: 17.5403\n",
      "Epoch 84/100\n",
      "7/7 [==============================] - 0s 8ms/step - loss: 447.5346 - mae: 15.8700 - val_loss: 534.9621 - val_mae: 17.8055\n",
      "Epoch 85/100\n",
      "7/7 [==============================] - 0s 8ms/step - loss: 432.8438 - mae: 15.5122 - val_loss: 547.0898 - val_mae: 17.7774\n",
      "Epoch 86/100\n",
      "7/7 [==============================] - 0s 8ms/step - loss: 431.9828 - mae: 15.3536 - val_loss: 540.0273 - val_mae: 17.9097\n",
      "Epoch 87/100\n",
      "7/7 [==============================] - 0s 7ms/step - loss: 457.4963 - mae: 16.1199 - val_loss: 542.1398 - val_mae: 18.2811\n",
      "Epoch 88/100\n",
      "7/7 [==============================] - 0s 8ms/step - loss: 444.6139 - mae: 15.8651 - val_loss: 545.1096 - val_mae: 18.7066\n",
      "Epoch 89/100\n",
      "7/7 [==============================] - 0s 8ms/step - loss: 461.2549 - mae: 16.3700 - val_loss: 530.0894 - val_mae: 17.6861\n",
      "Epoch 90/100\n",
      "7/7 [==============================] - 0s 7ms/step - loss: 450.4369 - mae: 15.6872 - val_loss: 520.2720 - val_mae: 17.5621\n",
      "Epoch 91/100\n",
      "7/7 [==============================] - 0s 8ms/step - loss: 435.2872 - mae: 15.4447 - val_loss: 518.9340 - val_mae: 17.3723\n",
      "Epoch 92/100\n",
      "7/7 [==============================] - 0s 8ms/step - loss: 424.8774 - mae: 15.3374 - val_loss: 545.7947 - val_mae: 18.0618\n",
      "Epoch 93/100\n",
      "7/7 [==============================] - 0s 7ms/step - loss: 421.5255 - mae: 15.2652 - val_loss: 505.4293 - val_mae: 17.2470\n",
      "Epoch 94/100\n",
      "7/7 [==============================] - 0s 7ms/step - loss: 435.9951 - mae: 15.5943 - val_loss: 500.0893 - val_mae: 17.5006\n",
      "Epoch 95/100\n",
      "7/7 [==============================] - 0s 8ms/step - loss: 388.5284 - mae: 14.7315 - val_loss: 506.0407 - val_mae: 17.1072\n",
      "Epoch 96/100\n",
      "7/7 [==============================] - 0s 8ms/step - loss: 421.9710 - mae: 14.8588 - val_loss: 509.2622 - val_mae: 16.7351\n",
      "Epoch 97/100\n",
      "7/7 [==============================] - 0s 7ms/step - loss: 401.4685 - mae: 14.6774 - val_loss: 514.2245 - val_mae: 17.2314\n",
      "Epoch 98/100\n",
      "7/7 [==============================] - 0s 8ms/step - loss: 409.4040 - mae: 14.9550 - val_loss: 516.2400 - val_mae: 17.5964\n",
      "Epoch 99/100\n",
      "7/7 [==============================] - 0s 8ms/step - loss: 378.0356 - mae: 14.1363 - val_loss: 508.0850 - val_mae: 17.2061\n",
      "Epoch 100/100\n",
      "7/7 [==============================] - 0s 8ms/step - loss: 389.8152 - mae: 14.6568 - val_loss: 493.1671 - val_mae: 16.6169\n"
     ]
    }
   ],
   "source": [
    "history = model.fit(X_train_scaled, Y_train, validation_split=0.2, epochs=100)"
   ]
  },
  {
   "cell_type": "code",
   "execution_count": 50,
   "id": "78c50bdf",
   "metadata": {},
   "outputs": [
    {
     "name": "stdout",
     "output_type": "stream",
     "text": [
      "2/2 [==============================] - 0s 4ms/step\n"
     ]
    }
   ],
   "source": [
    "y_pred_neural = model.predict(X_test_scaled)"
   ]
  },
  {
   "cell_type": "code",
   "execution_count": 51,
   "id": "e83d38ce",
   "metadata": {},
   "outputs": [
    {
     "name": "stdout",
     "output_type": "stream",
     "text": [
      "mean sq error  439.2756279927572\n"
     ]
    }
   ],
   "source": [
    "mse_neural= mean_squared_error(Y_test, y_pred_neural)\n",
    "print('mean sq error ', mse_neural)"
   ]
  },
  {
   "cell_type": "code",
   "execution_count": 52,
   "id": "e059880f",
   "metadata": {},
   "outputs": [
    {
     "name": "stdout",
     "output_type": "stream",
     "text": [
      "mean absolute error is  14.410020152061216\n",
      "mean absolute percent error is  22.953968527797898\n"
     ]
    }
   ],
   "source": [
    "neural_mae= mean_absolute_error(Y_test, y_pred_neural)\n",
    "mape_nu = mean_absolute_percentage_error(Y_test, y_pred_neural)\n",
    "    \n",
    "\n",
    "print('mean absolute error is ', neural_mae)\n",
    "print('mean absolute percent error is ', mape_nu*100)"
   ]
  },
  {
   "cell_type": "code",
   "execution_count": 53,
   "id": "52172626",
   "metadata": {},
   "outputs": [
    {
     "data": {
      "text/plain": [
       "0.32281841841827796"
      ]
     },
     "execution_count": 53,
     "metadata": {},
     "output_type": "execute_result"
    }
   ],
   "source": [
    "r2_score(Y_test, y_pred_neural)"
   ]
  },
  {
   "cell_type": "code",
   "execution_count": 54,
   "id": "14d4b410",
   "metadata": {},
   "outputs": [
    {
     "data": {
      "image/png": "[encoded data removed]",
      "text/plain": [
       "<Figure size 640x480 with 1 Axes>"
      ]
     },
     "metadata": {},
     "output_type": "display_data"
    }
   ],
   "source": [
    "plt.scatter(Y_test, y_pred_neural)\n",
    "plt.xlabel(\"Actual data\")\n",
    "plt.ylabel(\"pred data\")\n",
    "plt.show()"
   ]
  },
  {
   "cell_type": "markdown",
   "id": "0f8e854d",
   "metadata": {},
   "source": [
    "# XGBoost"
   ]
  },
  {
   "cell_type": "code",
   "execution_count": 55,
   "id": "13a56c9c",
   "metadata": {},
   "outputs": [],
   "source": [
    "from  xgboost import XGBRegressor"
   ]
  },
  {
   "cell_type": "code",
   "execution_count": 56,
   "id": "3f826c30",
   "metadata": {},
   "outputs": [],
   "source": [
    "xgbr = XGBRegressor(verbosity=0,learning_rate=0.5,n_estimators=50,max_depth=6,min_child_weight=4)"
   ]
  },
  {
   "cell_type": "code",
   "execution_count": 57,
   "id": "49a3efbe",
   "metadata": {},
   "outputs": [
    {
     "data": {
      "text/html": [
       "<style>#sk-container-id-5 {color: black;}#sk-container-id-5 pre{padding: 0;}#sk-container-id-5 div.sk-toggleable {background-color: white;}#sk-container-id-5 label.sk-toggleable__label {cursor: pointer;display: block;width: 100%;margin-bottom: 0;padding: 0.3em;box-sizing: border-box;text-align: center;}#sk-container-id-5 label.sk-toggleable__label-arrow:before {content: \"▸\";float: left;margin-right: 0.25em;color: #696969;}#sk-container-id-5 label.sk-toggleable__label-arrow:hover:before {color: black;}#sk-container-id-5 div.sk-estimator:hover label.sk-toggleable__label-arrow:before {color: black;}#sk-container-id-5 div.sk-toggleable__content {max-height: 0;max-width: 0;overflow: hidden;text-align: left;background-color: #f0f8ff;}#sk-container-id-5 div.sk-toggleable__content pre {margin: 0.2em;color: black;border-radius: 0.25em;background-color: #f0f8ff;}#sk-container-id-5 input.sk-toggleable__control:checked~div.sk-toggleable__content {max-height: 200px;max-width: 100%;overflow: auto;}#sk-container-id-5 input.sk-toggleable__control:checked~label.sk-toggleable__label-arrow:before {content: \"▾\";}#sk-container-id-5 div.sk-estimator input.sk-toggleable__control:checked~label.sk-toggleable__label {background-color: #d4ebff;}#sk-container-id-5 div.sk-label input.sk-toggleable__control:checked~label.sk-toggleable__label {background-color: #d4ebff;}#sk-container-id-5 input.sk-hidden--visually {border: 0;clip: rect(1px 1px 1px 1px);clip: rect(1px, 1px, 1px, 1px);height: 1px;margin: -1px;overflow: hidden;padding: 0;position: absolute;width: 1px;}#sk-container-id-5 div.sk-estimator {font-family: monospace;background-color: #f0f8ff;border: 1px dotted black;border-radius: 0.25em;box-sizing: border-box;margin-bottom: 0.5em;}#sk-container-id-5 div.sk-estimator:hover {background-color: #d4ebff;}#sk-container-id-5 div.sk-parallel-item::after {content: \"\";width: 100%;border-bottom: 1px solid gray;flex-grow: 1;}#sk-container-id-5 div.sk-label:hover label.sk-toggleable__label {background-color: #d4ebff;}#sk-container-id-5 div.sk-serial::before {content: \"\";position: absolute;border-left: 1px solid gray;box-sizing: border-box;top: 0;bottom: 0;left: 50%;z-index: 0;}#sk-container-id-5 div.sk-serial {display: flex;flex-direction: column;align-items: center;background-color: white;padding-right: 0.2em;padding-left: 0.2em;position: relative;}#sk-container-id-5 div.sk-item {position: relative;z-index: 1;}#sk-container-id-5 div.sk-parallel {display: flex;align-items: stretch;justify-content: center;background-color: white;position: relative;}#sk-container-id-5 div.sk-item::before, #sk-container-id-5 div.sk-parallel-item::before {content: \"\";position: absolute;border-left: 1px solid gray;box-sizing: border-box;top: 0;bottom: 0;left: 50%;z-index: -1;}#sk-container-id-5 div.sk-parallel-item {display: flex;flex-direction: column;z-index: 1;position: relative;background-color: white;}#sk-container-id-5 div.sk-parallel-item:first-child::after {align-self: flex-end;width: 50%;}#sk-container-id-5 div.sk-parallel-item:last-child::after {align-self: flex-start;width: 50%;}#sk-container-id-5 div.sk-parallel-item:only-child::after {width: 0;}#sk-container-id-5 div.sk-dashed-wrapped {border: 1px dashed gray;margin: 0 0.4em 0.5em 0.4em;box-sizing: border-box;padding-bottom: 0.4em;background-color: white;}#sk-container-id-5 div.sk-label label {font-family: monospace;font-weight: bold;display: inline-block;line-height: 1.2em;}#sk-container-id-5 div.sk-label-container {text-align: center;}#sk-container-id-5 div.sk-container {/* jupyter's `normalize.less` sets `[hidden] { display: none; }` but bootstrap.min.css set `[hidden] { display: none !important; }` so we also need the `!important` here to be able to override the default hidden behavior on the sphinx rendered scikit-learn.org. See: https://github.com/scikit-learn/scikit-learn/issues/21755 */display: inline-block !important;position: relative;}#sk-container-id-5 div.sk-text-repr-fallback {display: none;}</style><div id=\"sk-container-id-5\" class=\"sk-top-container\"><div class=\"sk-text-repr-fallback\"><pre>XGBRegressor(base_score=None, booster=None, callbacks=None,\n",
       "             colsample_bylevel=None, colsample_bynode=None,\n",
       "             colsample_bytree=None, device=None, early_stopping_rounds=None,\n",
       "             enable_categorical=False, eval_metric=None, feature_types=None,\n",
       "             gamma=None, grow_policy=None, importance_type=None,\n",
       "             interaction_constraints=None, learning_rate=0.5, max_bin=None,\n",
       "             max_cat_threshold=None, max_cat_to_onehot=None,\n",
       "             max_delta_step=None, max_depth=6, max_leaves=None,\n",
       "             min_child_weight=4, missing=nan, monotone_constraints=None,\n",
       "             multi_strategy=None, n_estimators=50, n_jobs=None,\n",
       "             num_parallel_tree=None, random_state=None, ...)</pre><b>In a Jupyter environment, please rerun this cell to show the HTML representation or trust the notebook. <br />On GitHub, the HTML representation is unable to render, please try loading this page with nbviewer.org.</b></div><div class=\"sk-container\" hidden><div class=\"sk-item\"><div class=\"sk-estimator sk-toggleable\"><input class=\"sk-toggleable__control sk-hidden--visually\" id=\"sk-estimator-id-5\" type=\"checkbox\" checked><label for=\"sk-estimator-id-5\" class=\"sk-toggleable__label sk-toggleable__label-arrow\">XGBRegressor</label><div class=\"sk-toggleable__content\"><pre>XGBRegressor(base_score=None, booster=None, callbacks=None,\n",
       "             colsample_bylevel=None, colsample_bynode=None,\n",
       "             colsample_bytree=None, device=None, early_stopping_rounds=None,\n",
       "             enable_categorical=False, eval_metric=None, feature_types=None,\n",
       "             gamma=None, grow_policy=None, importance_type=None,\n",
       "             interaction_constraints=None, learning_rate=0.5, max_bin=None,\n",
       "             max_cat_threshold=None, max_cat_to_onehot=None,\n",
       "             max_delta_step=None, max_depth=6, max_leaves=None,\n",
       "             min_child_weight=4, missing=nan, monotone_constraints=None,\n",
       "             multi_strategy=None, n_estimators=50, n_jobs=None,\n",
       "             num_parallel_tree=None, random_state=None, ...)</pre></div></div></div></div></div>"
      ],
      "text/plain": [
       "XGBRegressor(base_score=None, booster=None, callbacks=None,\n",
       "             colsample_bylevel=None, colsample_bynode=None,\n",
       "             colsample_bytree=None, device=None, early_stopping_rounds=None,\n",
       "             enable_categorical=False, eval_metric=None, feature_types=None,\n",
       "             gamma=None, grow_policy=None, importance_type=None,\n",
       "             interaction_constraints=None, learning_rate=0.5, max_bin=None,\n",
       "             max_cat_threshold=None, max_cat_to_onehot=None,\n",
       "             max_delta_step=None, max_depth=6, max_leaves=None,\n",
       "             min_child_weight=4, missing=nan, monotone_constraints=None,\n",
       "             multi_strategy=None, n_estimators=50, n_jobs=None,\n",
       "             num_parallel_tree=None, random_state=None, ...)"
      ]
     },
     "execution_count": 57,
     "metadata": {},
     "output_type": "execute_result"
    }
   ],
   "source": [
    "xgbr.fit(X_train, Y_train)"
   ]
  },
  {
   "cell_type": "code",
   "execution_count": 58,
   "id": "59fdba2e",
   "metadata": {},
   "outputs": [
    {
     "name": "stdout",
     "output_type": "stream",
     "text": [
      "mean sq error  115.92043421164789\n"
     ]
    }
   ],
   "source": [
    "Yp=xgbr.predict(X_test)\n",
    "mse_xgboost= mean_squared_error(Y_test, Yp)\n",
    "print('mean sq error ', mse_xgboost)"
   ]
  },
  {
   "cell_type": "code",
   "execution_count": 59,
   "id": "9303a183",
   "metadata": {
    "scrolled": true
   },
   "outputs": [
    {
     "name": "stdout",
     "output_type": "stream",
     "text": [
      "mean absolute error is  7.322312737126504\n",
      "mean absolute percent error is  13.680557824098077\n"
     ]
    }
   ],
   "source": [
    "from sklearn.metrics import mean_absolute_percentage_error\n",
    "xgboost_mae= mean_absolute_error(Y_test, Yp)\n",
    "mape_xg = np.mean(np.abs((Y_test - Yp)/Y_test))*100\n",
    "    \n",
    "\n",
    "print('mean absolute error is ', xgboost_mae)\n",
    "print('mean absolute percent error is ', mape_xg)\n",
    "\n"
   ]
  },
  {
   "cell_type": "code",
   "execution_count": 60,
   "id": "eb4d6447",
   "metadata": {},
   "outputs": [
    {
     "data": {
      "text/plain": [
       "0.8212985697936832"
      ]
     },
     "execution_count": 60,
     "metadata": {},
     "output_type": "execute_result"
    }
   ],
   "source": [
    "r2_score(Y_test, Yp)"
   ]
  },
  {
   "cell_type": "code",
   "execution_count": 61,
   "id": "de254671",
   "metadata": {},
   "outputs": [
    {
     "data": {
      "image/png": "[encoded data removed]",
      "text/plain": [
       "<Figure size 640x480 with 1 Axes>"
      ]
     },
     "metadata": {},
     "output_type": "display_data"
    }
   ],
   "source": [
    "plt.scatter(Y_test, Yp)\n",
    "plt.xlabel(\"Actual data\")\n",
    "plt.ylabel(\"pred data\")\n",
    "plt.show()"
   ]
  }
 ],
 "metadata": {
  "kernelspec": {
   "display_name": "Python 3 (ipykernel)",
   "language": "python",
   "name": "python3"
  },
  "language_info": {
   "codemirror_mode": {
    "name": "ipython",
    "version": 3
   },
   "file_extension": ".py",
   "mimetype": "text/x-python",
   "name": "python",
   "nbconvert_exporter": "python",
   "pygments_lexer": "ipython3",
   "version": "3.11.5"
  }
 },
 "nbformat": 4,
 "nbformat_minor": 5
}
